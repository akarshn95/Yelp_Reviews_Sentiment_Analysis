{
  "nbformat": 4,
  "nbformat_minor": 0,
  "metadata": {
    "colab": {
      "name": "Yelp_Review_Sentiment.ipynb",
      "provenance": [],
      "mount_file_id": "1a0Ls6dVjlAuvGtG4GLwFN9IZUHDN977z",
      "authorship_tag": "ABX9TyMsrB+GWlyXn+ckwNnA20lg",
      "include_colab_link": true
    },
    "kernelspec": {
      "name": "python3",
      "display_name": "Python 3"
    }
  },
  "cells": [
    {
      "cell_type": "markdown",
      "metadata": {
        "id": "view-in-github",
        "colab_type": "text"
      },
      "source": [
        "<a href=\"https://colab.research.google.com/github/akarshn95/Yelp_Reviews_Sentiment_Analysis/blob/master/Yelp_Review_Sentiment.ipynb\" target=\"_parent\"><img src=\"https://colab.research.google.com/assets/colab-badge.svg\" alt=\"Open In Colab\"/></a>"
      ]
    },
    {
      "cell_type": "markdown",
      "metadata": {
        "id": "Y8GnWrOYCorB",
        "colab_type": "text"
      },
      "source": [
        "# Sentiment Analysis of Yelp Reviews"
      ]
    },
    {
      "cell_type": "code",
      "metadata": {
        "id": "VJ0zS1yFT5yQ",
        "colab_type": "code",
        "colab": {
          "base_uri": "https://localhost:8080/",
          "height": 52
        },
        "outputId": "ad25091f-734d-4380-d0bd-4955b6c513e3"
      },
      "source": [
        "import pandas as pd\n",
        "import numpy as np\n",
        "import matplotlib.pyplot as plt\n",
        "import seaborn as sns\n",
        "import re\n",
        "import nltk\n",
        "from nltk.corpus import stopwords\n",
        "import string\n",
        "from sklearn.feature_extraction.text import CountVectorizer\n",
        "%matplotlib inline"
      ],
      "execution_count": 1,
      "outputs": [
        {
          "output_type": "stream",
          "text": [
            "/usr/local/lib/python3.6/dist-packages/statsmodels/tools/_testing.py:19: FutureWarning: pandas.util.testing is deprecated. Use the functions in the public API at pandas.testing instead.\n",
            "  import pandas.util.testing as tm\n"
          ],
          "name": "stderr"
        }
      ]
    },
    {
      "cell_type": "code",
      "metadata": {
        "id": "67KXF3vRUbEf",
        "colab_type": "code",
        "colab": {}
      },
      "source": [
        "df = pd.read_csv('/content/drive/My Drive/Kaggle/yelp_reviews.csv')"
      ],
      "execution_count": 2,
      "outputs": []
    },
    {
      "cell_type": "markdown",
      "metadata": {
        "id": "vJBFp9HsabV2",
        "colab_type": "text"
      },
      "source": [
        "## Exploratory Data Analysis"
      ]
    },
    {
      "cell_type": "code",
      "metadata": {
        "id": "XWxgy727Vhun",
        "colab_type": "code",
        "colab": {
          "base_uri": "https://localhost:8080/",
          "height": 197
        },
        "outputId": "0a0410d0-5302-4bcc-eb6c-7002d531d328"
      },
      "source": [
        "df.head()\n",
        "\n",
        "# cool, useful and funny columns are the votes for the review itself and not the restaurant"
      ],
      "execution_count": 3,
      "outputs": [
        {
          "output_type": "execute_result",
          "data": {
            "text/html": [
              "<div>\n",
              "<style scoped>\n",
              "    .dataframe tbody tr th:only-of-type {\n",
              "        vertical-align: middle;\n",
              "    }\n",
              "\n",
              "    .dataframe tbody tr th {\n",
              "        vertical-align: top;\n",
              "    }\n",
              "\n",
              "    .dataframe thead th {\n",
              "        text-align: right;\n",
              "    }\n",
              "</style>\n",
              "<table border=\"1\" class=\"dataframe\">\n",
              "  <thead>\n",
              "    <tr style=\"text-align: right;\">\n",
              "      <th></th>\n",
              "      <th>user_id</th>\n",
              "      <th>review_id</th>\n",
              "      <th>text</th>\n",
              "      <th>votes.cool</th>\n",
              "      <th>business_id</th>\n",
              "      <th>votes.funny</th>\n",
              "      <th>stars</th>\n",
              "      <th>date</th>\n",
              "      <th>type</th>\n",
              "      <th>votes.useful</th>\n",
              "    </tr>\n",
              "  </thead>\n",
              "  <tbody>\n",
              "    <tr>\n",
              "      <th>0</th>\n",
              "      <td>Xqd0DzHaiyRqVH3WRG7hzg</td>\n",
              "      <td>15SdjuK7DmYqUAj6rjGowg</td>\n",
              "      <td>dr. goldberg offers everything i look for in a...</td>\n",
              "      <td>1</td>\n",
              "      <td>vcNAWiLM4dR7D2nwwJ7nCA</td>\n",
              "      <td>0</td>\n",
              "      <td>5</td>\n",
              "      <td>2007-05-17</td>\n",
              "      <td>review</td>\n",
              "      <td>2</td>\n",
              "    </tr>\n",
              "    <tr>\n",
              "      <th>1</th>\n",
              "      <td>H1kH6QZV7Le4zqTRNxoZow</td>\n",
              "      <td>RF6UnRTtG7tWMcrO2GEoAg</td>\n",
              "      <td>Unfortunately, the frustration of being Dr. Go...</td>\n",
              "      <td>0</td>\n",
              "      <td>vcNAWiLM4dR7D2nwwJ7nCA</td>\n",
              "      <td>0</td>\n",
              "      <td>2</td>\n",
              "      <td>2010-03-22</td>\n",
              "      <td>review</td>\n",
              "      <td>2</td>\n",
              "    </tr>\n",
              "    <tr>\n",
              "      <th>2</th>\n",
              "      <td>zvJCcrpm2yOZrxKffwGQLA</td>\n",
              "      <td>-TsVN230RCkLYKBeLsuz7A</td>\n",
              "      <td>Dr. Goldberg has been my doctor for years and ...</td>\n",
              "      <td>1</td>\n",
              "      <td>vcNAWiLM4dR7D2nwwJ7nCA</td>\n",
              "      <td>0</td>\n",
              "      <td>4</td>\n",
              "      <td>2012-02-14</td>\n",
              "      <td>review</td>\n",
              "      <td>1</td>\n",
              "    </tr>\n",
              "    <tr>\n",
              "      <th>3</th>\n",
              "      <td>KBLW4wJA_fwoWmMhiHRVOA</td>\n",
              "      <td>dNocEAyUucjT371NNND41Q</td>\n",
              "      <td>Been going to Dr. Goldberg for over 10 years. ...</td>\n",
              "      <td>0</td>\n",
              "      <td>vcNAWiLM4dR7D2nwwJ7nCA</td>\n",
              "      <td>0</td>\n",
              "      <td>4</td>\n",
              "      <td>2012-03-02</td>\n",
              "      <td>review</td>\n",
              "      <td>0</td>\n",
              "    </tr>\n",
              "    <tr>\n",
              "      <th>4</th>\n",
              "      <td>zvJCcrpm2yOZrxKffwGQLA</td>\n",
              "      <td>ebcN2aqmNUuYNoyvQErgnA</td>\n",
              "      <td>Got a letter in the mail last week that said D...</td>\n",
              "      <td>1</td>\n",
              "      <td>vcNAWiLM4dR7D2nwwJ7nCA</td>\n",
              "      <td>0</td>\n",
              "      <td>4</td>\n",
              "      <td>2012-05-15</td>\n",
              "      <td>review</td>\n",
              "      <td>2</td>\n",
              "    </tr>\n",
              "  </tbody>\n",
              "</table>\n",
              "</div>"
            ],
            "text/plain": [
              "                  user_id               review_id  ...    type  votes.useful\n",
              "0  Xqd0DzHaiyRqVH3WRG7hzg  15SdjuK7DmYqUAj6rjGowg  ...  review             2\n",
              "1  H1kH6QZV7Le4zqTRNxoZow  RF6UnRTtG7tWMcrO2GEoAg  ...  review             2\n",
              "2  zvJCcrpm2yOZrxKffwGQLA  -TsVN230RCkLYKBeLsuz7A  ...  review             1\n",
              "3  KBLW4wJA_fwoWmMhiHRVOA  dNocEAyUucjT371NNND41Q  ...  review             0\n",
              "4  zvJCcrpm2yOZrxKffwGQLA  ebcN2aqmNUuYNoyvQErgnA  ...  review             2\n",
              "\n",
              "[5 rows x 10 columns]"
            ]
          },
          "metadata": {
            "tags": []
          },
          "execution_count": 3
        }
      ]
    },
    {
      "cell_type": "code",
      "metadata": {
        "id": "rF1HKx5qViGl",
        "colab_type": "code",
        "colab": {
          "base_uri": "https://localhost:8080/",
          "height": 318
        },
        "outputId": "2f7bb073-df01-44f2-8c63-42a9b6e82d19"
      },
      "source": [
        "df.info()"
      ],
      "execution_count": 4,
      "outputs": [
        {
          "output_type": "stream",
          "text": [
            "<class 'pandas.core.frame.DataFrame'>\n",
            "RangeIndex: 1125458 entries, 0 to 1125457\n",
            "Data columns (total 10 columns):\n",
            " #   Column        Non-Null Count    Dtype \n",
            "---  ------        --------------    ----- \n",
            " 0   user_id       1125458 non-null  object\n",
            " 1   review_id     1125458 non-null  object\n",
            " 2   text          1125457 non-null  object\n",
            " 3   votes.cool    1125458 non-null  int64 \n",
            " 4   business_id   1125458 non-null  object\n",
            " 5   votes.funny   1125458 non-null  int64 \n",
            " 6   stars         1125458 non-null  int64 \n",
            " 7   date          1125458 non-null  object\n",
            " 8   type          1125458 non-null  object\n",
            " 9   votes.useful  1125458 non-null  int64 \n",
            "dtypes: int64(4), object(6)\n",
            "memory usage: 85.9+ MB\n"
          ],
          "name": "stdout"
        }
      ]
    },
    {
      "cell_type": "code",
      "metadata": {
        "id": "JU4xNw5ICzA8",
        "colab_type": "code",
        "colab": {
          "base_uri": "https://localhost:8080/",
          "height": 34
        },
        "outputId": "a05beae2-b893-4f2b-c283-900d646e13ac"
      },
      "source": [
        "print(\"The total number of reviews is\", df.shape[0])"
      ],
      "execution_count": 5,
      "outputs": [
        {
          "output_type": "stream",
          "text": [
            "The total number of reviews is 1125458\n"
          ],
          "name": "stdout"
        }
      ]
    },
    {
      "cell_type": "code",
      "metadata": {
        "id": "_T3TxeYyWPdw",
        "colab_type": "code",
        "colab": {}
      },
      "source": [
        "# created a length of review column to use as a feature\n",
        "df['text'] = df['text'].apply(str)\n",
        "df['text_length'] = df['text'].apply(len)"
      ],
      "execution_count": 6,
      "outputs": []
    },
    {
      "cell_type": "code",
      "metadata": {
        "id": "j5kcUWstXwAm",
        "colab_type": "code",
        "colab": {
          "base_uri": "https://localhost:8080/",
          "height": 294
        },
        "outputId": "942d7d4b-4d98-497b-ff85-ecbd262d6226"
      },
      "source": [
        "sns.set_style('darkgrid')\n",
        "plt.hist(df.text_length,bins=30)\n",
        "plt.xlabel('Review Text Length')\n",
        "plt.ylabel('Frequency')\n",
        "plt.title('Reviews Length Distribution')\n",
        "plt.show()"
      ],
      "execution_count": 7,
      "outputs": [
        {
          "output_type": "display_data",
          "data": {
            "image/png": "[encoded data removed]",
            "text/plain": [
              "<Figure size 432x288 with 1 Axes>"
            ]
          },
          "metadata": {
            "tags": []
          }
        }
      ]
    },
    {
      "cell_type": "code",
      "metadata": {
        "id": "WiM07S3AWZrw",
        "colab_type": "code",
        "colab": {
          "base_uri": "https://localhost:8080/",
          "height": 242
        },
        "outputId": "d85c048a-580a-4db2-8b6c-c5221b347093"
      },
      "source": [
        "p = sns.FacetGrid(df, col='stars')\n",
        "p.map(plt.hist, 'text_length')"
      ],
      "execution_count": 8,
      "outputs": [
        {
          "output_type": "execute_result",
          "data": {
            "text/plain": [
              "<seaborn.axisgrid.FacetGrid at 0x7f5e8567acf8>"
            ]
          },
          "metadata": {
            "tags": []
          },
          "execution_count": 8
        },
        {
          "output_type": "display_data",
          "data": {
            "image/png": "[encoded data removed]",
            "text/plain": [
              "<Figure size 1080x216 with 5 Axes>"
            ]
          },
          "metadata": {
            "tags": []
          }
        }
      ]
    },
    {
      "cell_type": "code",
      "metadata": {
        "id": "yvGvbqqjWb2X",
        "colab_type": "code",
        "colab": {
          "base_uri": "https://localhost:8080/",
          "height": 296
        },
        "outputId": "b9a51a46-644c-40b5-dc65-56ea8fd94845"
      },
      "source": [
        "plt.figure(figsize=[6,4])\n",
        "sns.boxplot('stars','text_length',data=df)"
      ],
      "execution_count": 9,
      "outputs": [
        {
          "output_type": "execute_result",
          "data": {
            "text/plain": [
              "<matplotlib.axes._subplots.AxesSubplot at 0x7f5e826afb00>"
            ]
          },
          "metadata": {
            "tags": []
          },
          "execution_count": 9
        },
        {
          "output_type": "display_data",
          "data": {
            "image/png": "[encoded data removed]",
            "text/plain": [
              "<Figure size 432x288 with 1 Axes>"
            ]
          },
          "metadata": {
            "tags": []
          }
        }
      ]
    },
    {
      "cell_type": "code",
      "metadata": {
        "id": "bdEDrGGtbHNR",
        "colab_type": "code",
        "colab": {
          "base_uri": "https://localhost:8080/",
          "height": 296
        },
        "outputId": "601cc0c2-3497-4755-bfdf-e50df82dd521"
      },
      "source": [
        "sns.countplot(df.stars)"
      ],
      "execution_count": 10,
      "outputs": [
        {
          "output_type": "execute_result",
          "data": {
            "text/plain": [
              "<matplotlib.axes._subplots.AxesSubplot at 0x7f5e826af048>"
            ]
          },
          "metadata": {
            "tags": []
          },
          "execution_count": 10
        },
        {
          "output_type": "display_data",
          "data": {
            "image/png": "[encoded data removed]",
            "text/plain": [
              "<Figure size 432x288 with 1 Axes>"
            ]
          },
          "metadata": {
            "tags": []
          }
        }
      ]
    },
    {
      "cell_type": "code",
      "metadata": {
        "id": "LT8Axi6lbLFV",
        "colab_type": "code",
        "colab": {
          "base_uri": "https://localhost:8080/",
          "height": 227
        },
        "outputId": "84b4d54f-020d-4bc4-c279-4f687c2479b8"
      },
      "source": [
        "stars = df.groupby('stars').mean()\n",
        "stars"
      ],
      "execution_count": 11,
      "outputs": [
        {
          "output_type": "execute_result",
          "data": {
            "text/html": [
              "<div>\n",
              "<style scoped>\n",
              "    .dataframe tbody tr th:only-of-type {\n",
              "        vertical-align: middle;\n",
              "    }\n",
              "\n",
              "    .dataframe tbody tr th {\n",
              "        vertical-align: top;\n",
              "    }\n",
              "\n",
              "    .dataframe thead th {\n",
              "        text-align: right;\n",
              "    }\n",
              "</style>\n",
              "<table border=\"1\" class=\"dataframe\">\n",
              "  <thead>\n",
              "    <tr style=\"text-align: right;\">\n",
              "      <th></th>\n",
              "      <th>votes.cool</th>\n",
              "      <th>votes.funny</th>\n",
              "      <th>votes.useful</th>\n",
              "      <th>text_length</th>\n",
              "    </tr>\n",
              "    <tr>\n",
              "      <th>stars</th>\n",
              "      <th></th>\n",
              "      <th></th>\n",
              "      <th></th>\n",
              "      <th></th>\n",
              "    </tr>\n",
              "  </thead>\n",
              "  <tbody>\n",
              "    <tr>\n",
              "      <th>1</th>\n",
              "      <td>0.344184</td>\n",
              "      <td>0.659752</td>\n",
              "      <td>1.374788</td>\n",
              "      <td>831.750063</td>\n",
              "    </tr>\n",
              "    <tr>\n",
              "      <th>2</th>\n",
              "      <td>0.488665</td>\n",
              "      <td>0.634766</td>\n",
              "      <td>1.250942</td>\n",
              "      <td>840.016936</td>\n",
              "    </tr>\n",
              "    <tr>\n",
              "      <th>3</th>\n",
              "      <td>0.645960</td>\n",
              "      <td>0.568310</td>\n",
              "      <td>1.098406</td>\n",
              "      <td>766.250731</td>\n",
              "    </tr>\n",
              "    <tr>\n",
              "      <th>4</th>\n",
              "      <td>0.777403</td>\n",
              "      <td>0.534867</td>\n",
              "      <td>1.139316</td>\n",
              "      <td>692.317581</td>\n",
              "    </tr>\n",
              "    <tr>\n",
              "      <th>5</th>\n",
              "      <td>0.677868</td>\n",
              "      <td>0.434907</td>\n",
              "      <td>1.043825</td>\n",
              "      <td>598.010681</td>\n",
              "    </tr>\n",
              "  </tbody>\n",
              "</table>\n",
              "</div>"
            ],
            "text/plain": [
              "       votes.cool  votes.funny  votes.useful  text_length\n",
              "stars                                                    \n",
              "1        0.344184     0.659752      1.374788   831.750063\n",
              "2        0.488665     0.634766      1.250942   840.016936\n",
              "3        0.645960     0.568310      1.098406   766.250731\n",
              "4        0.777403     0.534867      1.139316   692.317581\n",
              "5        0.677868     0.434907      1.043825   598.010681"
            ]
          },
          "metadata": {
            "tags": []
          },
          "execution_count": 11
        }
      ]
    },
    {
      "cell_type": "code",
      "metadata": {
        "id": "OwDeoVGgbUWq",
        "colab_type": "code",
        "colab": {
          "base_uri": "https://localhost:8080/",
          "height": 167
        },
        "outputId": "5dec7fae-64b6-4294-d8cb-d81dbda4ebf5"
      },
      "source": [
        "stars.corr()"
      ],
      "execution_count": 12,
      "outputs": [
        {
          "output_type": "execute_result",
          "data": {
            "text/html": [
              "<div>\n",
              "<style scoped>\n",
              "    .dataframe tbody tr th:only-of-type {\n",
              "        vertical-align: middle;\n",
              "    }\n",
              "\n",
              "    .dataframe tbody tr th {\n",
              "        vertical-align: top;\n",
              "    }\n",
              "\n",
              "    .dataframe thead th {\n",
              "        text-align: right;\n",
              "    }\n",
              "</style>\n",
              "<table border=\"1\" class=\"dataframe\">\n",
              "  <thead>\n",
              "    <tr style=\"text-align: right;\">\n",
              "      <th></th>\n",
              "      <th>votes.cool</th>\n",
              "      <th>votes.funny</th>\n",
              "      <th>votes.useful</th>\n",
              "      <th>text_length</th>\n",
              "    </tr>\n",
              "  </thead>\n",
              "  <tbody>\n",
              "    <tr>\n",
              "      <th>votes.cool</th>\n",
              "      <td>1.000000</td>\n",
              "      <td>-0.777084</td>\n",
              "      <td>-0.877753</td>\n",
              "      <td>-0.756324</td>\n",
              "    </tr>\n",
              "    <tr>\n",
              "      <th>votes.funny</th>\n",
              "      <td>-0.777084</td>\n",
              "      <td>1.000000</td>\n",
              "      <td>0.894475</td>\n",
              "      <td>0.983898</td>\n",
              "    </tr>\n",
              "    <tr>\n",
              "      <th>votes.useful</th>\n",
              "      <td>-0.877753</td>\n",
              "      <td>0.894475</td>\n",
              "      <td>1.000000</td>\n",
              "      <td>0.819646</td>\n",
              "    </tr>\n",
              "    <tr>\n",
              "      <th>text_length</th>\n",
              "      <td>-0.756324</td>\n",
              "      <td>0.983898</td>\n",
              "      <td>0.819646</td>\n",
              "      <td>1.000000</td>\n",
              "    </tr>\n",
              "  </tbody>\n",
              "</table>\n",
              "</div>"
            ],
            "text/plain": [
              "              votes.cool  votes.funny  votes.useful  text_length\n",
              "votes.cool      1.000000    -0.777084     -0.877753    -0.756324\n",
              "votes.funny    -0.777084     1.000000      0.894475     0.983898\n",
              "votes.useful   -0.877753     0.894475      1.000000     0.819646\n",
              "text_length    -0.756324     0.983898      0.819646     1.000000"
            ]
          },
          "metadata": {
            "tags": []
          },
          "execution_count": 12
        }
      ]
    },
    {
      "cell_type": "code",
      "metadata": {
        "id": "-iygG5SO5iub",
        "colab_type": "code",
        "colab": {
          "base_uri": "https://localhost:8080/",
          "height": 287
        },
        "outputId": "dcd0620c-61f6-446f-ee93-cba1524ca1f4"
      },
      "source": [
        "sns.heatmap(stars.corr(), cmap='coolwarm')"
      ],
      "execution_count": 13,
      "outputs": [
        {
          "output_type": "execute_result",
          "data": {
            "text/plain": [
              "<matplotlib.axes._subplots.AxesSubplot at 0x7f5e825c88d0>"
            ]
          },
          "metadata": {
            "tags": []
          },
          "execution_count": 13
        },
        {
          "output_type": "display_data",
          "data": {
            "image/png": "[encoded data removed]",
            "text/plain": [
              "<Figure size 432x288 with 2 Axes>"
            ]
          },
          "metadata": {
            "tags": []
          }
        }
      ]
    },
    {
      "cell_type": "code",
      "metadata": {
        "id": "aP7XjhQXXrxf",
        "colab_type": "code",
        "colab": {
          "base_uri": "https://localhost:8080/",
          "height": 296
        },
        "outputId": "84d40820-cd73-4413-b253-76c921be1322"
      },
      "source": [
        "# for the model, ignore the neutral reviews\n",
        "df = df[df.stars!=3]\n",
        "sns.countplot(df.stars)"
      ],
      "execution_count": 14,
      "outputs": [
        {
          "output_type": "execute_result",
          "data": {
            "text/plain": [
              "<matplotlib.axes._subplots.AxesSubplot at 0x7f5e81265e80>"
            ]
          },
          "metadata": {
            "tags": []
          },
          "execution_count": 14
        },
        {
          "output_type": "display_data",
          "data": {
            "image/png": "[encoded data removed]",
            "text/plain": [
              "<Figure size 432x288 with 1 Axes>"
            ]
          },
          "metadata": {
            "tags": []
          }
        }
      ]
    },
    {
      "cell_type": "code",
      "metadata": {
        "id": "c-V8IOjZY5jF",
        "colab_type": "code",
        "colab": {
          "base_uri": "https://localhost:8080/",
          "height": 230
        },
        "outputId": "a5b4f388-7484-4af9-e96a-4d9dbcc9bdc6"
      },
      "source": [
        "# partition the reviews into positive and negative to perform binary sentiment analysis\n",
        "df.loc[:,'sentiment'] = df.stars.apply(lambda x: 1 if x>3 else 0)"
      ],
      "execution_count": 15,
      "outputs": [
        {
          "output_type": "stream",
          "text": [
            "/usr/local/lib/python3.6/dist-packages/pandas/core/indexing.py:845: SettingWithCopyWarning: \n",
            "A value is trying to be set on a copy of a slice from a DataFrame.\n",
            "Try using .loc[row_indexer,col_indexer] = value instead\n",
            "\n",
            "See the caveats in the documentation: https://pandas.pydata.org/pandas-docs/stable/user_guide/indexing.html#returning-a-view-versus-a-copy\n",
            "  self.obj[key] = _infer_fill_value(value)\n",
            "/usr/local/lib/python3.6/dist-packages/pandas/core/indexing.py:966: SettingWithCopyWarning: \n",
            "A value is trying to be set on a copy of a slice from a DataFrame.\n",
            "Try using .loc[row_indexer,col_indexer] = value instead\n",
            "\n",
            "See the caveats in the documentation: https://pandas.pydata.org/pandas-docs/stable/user_guide/indexing.html#returning-a-view-versus-a-copy\n",
            "  self.obj[item] = s\n"
          ],
          "name": "stderr"
        }
      ]
    },
    {
      "cell_type": "code",
      "metadata": {
        "id": "sNBXjrBIG8xP",
        "colab_type": "code",
        "colab": {
          "base_uri": "https://localhost:8080/",
          "height": 296
        },
        "outputId": "25b9d56d-ee49-47ca-c1e5-7b072e183553"
      },
      "source": [
        "sns.countplot(df.sentiment)"
      ],
      "execution_count": 16,
      "outputs": [
        {
          "output_type": "execute_result",
          "data": {
            "text/plain": [
              "<matplotlib.axes._subplots.AxesSubplot at 0x7f5e82708278>"
            ]
          },
          "metadata": {
            "tags": []
          },
          "execution_count": 16
        },
        {
          "output_type": "display_data",
          "data": {
            "image/png": "[encoded data removed]",
            "text/plain": [
              "<Figure size 432x288 with 1 Axes>"
            ]
          },
          "metadata": {
            "tags": []
          }
        }
      ]
    },
    {
      "cell_type": "code",
      "metadata": {
        "id": "X2p4trzTakY1",
        "colab_type": "code",
        "colab": {}
      },
      "source": [
        "# Want to train the model with similar number of positive and negative reviews, so for better balance ignoring reviews that are too long as way to reduce positive reviews and decrease bias\n",
        "#df = df[(df['sentiment']==1) & (df['text_length']<750) | (df['sentiment']==0)]"
      ],
      "execution_count": 17,
      "outputs": []
    },
    {
      "cell_type": "code",
      "metadata": {
        "id": "1omsSlimak-F",
        "colab_type": "code",
        "colab": {
          "base_uri": "https://localhost:8080/",
          "height": 296
        },
        "outputId": "09deec06-c302-49b2-9ab4-64119df428e1"
      },
      "source": [
        "sns.countplot(df.sentiment)"
      ],
      "execution_count": 18,
      "outputs": [
        {
          "output_type": "execute_result",
          "data": {
            "text/plain": [
              "<matplotlib.axes._subplots.AxesSubplot at 0x7f5e85603b38>"
            ]
          },
          "metadata": {
            "tags": []
          },
          "execution_count": 18
        },
        {
          "output_type": "display_data",
          "data": {
            "image/png": "[encoded data removed]",
            "text/plain": [
              "<Figure size 432x288 with 1 Axes>"
            ]
          },
          "metadata": {
            "tags": []
          }
        }
      ]
    },
    {
      "cell_type": "code",
      "metadata": {
        "id": "6-Rc2IX_akm6",
        "colab_type": "code",
        "colab": {
          "base_uri": "https://localhost:8080/",
          "height": 52
        },
        "outputId": "5482bc31-8b42-4ed5-cf00-2316e85a1495"
      },
      "source": [
        "import string\n",
        "from nltk.corpus import stopwords\n",
        "nltk.download('stopwords')\n",
        "\n",
        "# remove punctuation and stopwords\n",
        "def clean_text(text):\n",
        "    rem_punc = ''.join([char for char in text if char not in string.punctuation])\n",
        "    rem_stop = [word for word in rem_punc.split() if word.lower() not in stopwords.words('english')]\n",
        "    return rem_stop"
      ],
      "execution_count": 19,
      "outputs": [
        {
          "output_type": "stream",
          "text": [
            "[nltk_data] Downloading package stopwords to /root/nltk_data...\n",
            "[nltk_data]   Unzipping corpora/stopwords.zip.\n"
          ],
          "name": "stdout"
        }
      ]
    },
    {
      "cell_type": "code",
      "metadata": {
        "id": "q4RyhinOdQ7p",
        "colab_type": "code",
        "colab": {}
      },
      "source": [
        "# Count Vectorization\n",
        "from sklearn.feature_extraction.text import CountVectorizer\n",
        "\n",
        "count_vec = CountVectorizer(analyzer=clean_text)\n",
        "review_vec = count_vec.fit_transform(df.text)"
      ],
      "execution_count": 20,
      "outputs": []
    },
    {
      "cell_type": "code",
      "metadata": {
        "id": "SRuO34UHewyj",
        "colab_type": "code",
        "colab": {
          "base_uri": "https://localhost:8080/",
          "height": 34
        },
        "outputId": "58fee1ac-9b27-452e-8e41-a9d9aadec06e"
      },
      "source": [
        "review_vec.shape"
      ],
      "execution_count": 21,
      "outputs": [
        {
          "output_type": "execute_result",
          "data": {
            "text/plain": [
              "(961697, 683980)"
            ]
          },
          "metadata": {
            "tags": []
          },
          "execution_count": 21
        }
      ]
    },
    {
      "cell_type": "markdown",
      "metadata": {
        "id": "STdl973X846Q",
        "colab_type": "text"
      },
      "source": [
        "## Training the Model"
      ]
    },
    {
      "cell_type": "code",
      "metadata": {
        "id": "tLqr2zExeupe",
        "colab_type": "code",
        "colab": {}
      },
      "source": [
        "# Intialize X and y values for the model\n",
        "X = review_vec\n",
        "y = df.sentiment.values"
      ],
      "execution_count": 22,
      "outputs": []
    },
    {
      "cell_type": "code",
      "metadata": {
        "id": "A3pf80jXe8Ri",
        "colab_type": "code",
        "colab": {
          "base_uri": "https://localhost:8080/",
          "height": 52
        },
        "outputId": "56512667-c9a7-4fd0-80bc-77dd5f9fd24a"
      },
      "source": [
        "print(X.shape)\n",
        "print(y.shape)"
      ],
      "execution_count": 23,
      "outputs": [
        {
          "output_type": "stream",
          "text": [
            "(961697, 683980)\n",
            "(961697,)\n"
          ],
          "name": "stdout"
        }
      ]
    },
    {
      "cell_type": "code",
      "metadata": {
        "id": "lPDiiQcce9iY",
        "colab_type": "code",
        "colab": {}
      },
      "source": [
        "from sklearn.model_selection import train_test_split\n",
        "from sklearn.metrics import confusion_matrix, classification_report, accuracy_score\n",
        "\n",
        "X_train, X_test, y_train, y_test = train_test_split(X, y, test_size=0.15, stratify=y)"
      ],
      "execution_count": 24,
      "outputs": []
    },
    {
      "cell_type": "code",
      "metadata": {
        "id": "vvvKB0Fve-fO",
        "colab_type": "code",
        "colab": {
          "base_uri": "https://localhost:8080/",
          "height": 477
        },
        "outputId": "cc4fb7f9-f550-4876-80ac-14ca5afc325c"
      },
      "source": [
        "# Naive Bayes model\n",
        "from sklearn.naive_bayes import MultinomialNB\n",
        "nb_classifier = MultinomialNB()\n",
        "nb_classifier.fit(X_train, y_train)\n",
        "# model evalualtion\n",
        "y_pred = nb_classifier.predict(X_test)\n",
        "cm = confusion_matrix(y_test,y_pred)\n",
        "sns.heatmap(cm, annot=True, cmap='Blues')\n",
        "print(cm)\n",
        "print(classification_report(y_test, y_pred))\n",
        "print(\"Score:\",round(accuracy_score(y_test,y_pred)*100,2))"
      ],
      "execution_count": 25,
      "outputs": [
        {
          "output_type": "stream",
          "text": [
            "[[ 25097   6929]\n",
            " [  7317 104912]]\n",
            "              precision    recall  f1-score   support\n",
            "\n",
            "           0       0.77      0.78      0.78     32026\n",
            "           1       0.94      0.93      0.94    112229\n",
            "\n",
            "    accuracy                           0.90    144255\n",
            "   macro avg       0.86      0.86      0.86    144255\n",
            "weighted avg       0.90      0.90      0.90    144255\n",
            "\n",
            "Score: 90.12\n"
          ],
          "name": "stdout"
        },
        {
          "output_type": "display_data",
          "data": {
            "image/png": "[encoded data removed]",
            "text/plain": [
              "<Figure size 432x288 with 2 Axes>"
            ]
          },
          "metadata": {
            "tags": []
          }
        }
      ]
    },
    {
      "cell_type": "code",
      "metadata": {
        "id": "aAggO9z0WFkK",
        "colab_type": "code",
        "colab": {
          "base_uri": "https://localhost:8080/",
          "height": 247
        },
        "outputId": "9103b9be-1cef-419f-9021-60271e6759c1"
      },
      "source": [
        "# Logistic Regression\n",
        "from sklearn.linear_model import LogisticRegression\n",
        "from sklearn.model_selection import GridSearchCV\n",
        "logr = LogisticRegression()\n",
        "parameters = {'max_iter':[1000,10000,100000]}\n",
        "clf = GridSearchCV(logr, parameters, cv=5)\n",
        "clf.fit(X_train, y_train)"
      ],
      "execution_count": 26,
      "outputs": [
        {
          "output_type": "execute_result",
          "data": {
            "text/plain": [
              "GridSearchCV(cv=5, error_score=nan,\n",
              "             estimator=LogisticRegression(C=1.0, class_weight=None, dual=False,\n",
              "                                          fit_intercept=True,\n",
              "                                          intercept_scaling=1, l1_ratio=None,\n",
              "                                          max_iter=100, multi_class='auto',\n",
              "                                          n_jobs=None, penalty='l2',\n",
              "                                          random_state=None, solver='lbfgs',\n",
              "                                          tol=0.0001, verbose=0,\n",
              "                                          warm_start=False),\n",
              "             iid='deprecated', n_jobs=None,\n",
              "             param_grid={'max_iter': [1000, 10000, 100000]},\n",
              "             pre_dispatch='2*n_jobs', refit=True, return_train_score=False,\n",
              "             scoring=None, verbose=0)"
            ]
          },
          "metadata": {
            "tags": []
          },
          "execution_count": 26
        }
      ]
    },
    {
      "cell_type": "code",
      "metadata": {
        "id": "uECeD0IxS3sU",
        "colab_type": "code",
        "colab": {
          "base_uri": "https://localhost:8080/",
          "height": 566
        },
        "outputId": "8e6c84c4-0ef0-4a27-e9f3-4c20b52630de"
      },
      "source": [
        "print(clf.best_score_, clf.best_params_, clf.best_estimator_)\n",
        "y_pred = clf.predict(X_test)\n",
        "sns.heatmap(cm, annot=True, cmap='Blues')\n",
        "cm = confusion_matrix(y_test, y_pred)\n",
        "print(cm)\n",
        "print(classification_report(y_test, y_pred))\n",
        "print(\"Score:\",round(accuracy_score(y_test,y_pred)*100,2))"
      ],
      "execution_count": 27,
      "outputs": [
        {
          "output_type": "stream",
          "text": [
            "0.9433488864860078 {'max_iter': 1000} LogisticRegression(C=1.0, class_weight=None, dual=False, fit_intercept=True,\n",
            "                   intercept_scaling=1, l1_ratio=None, max_iter=1000,\n",
            "                   multi_class='auto', n_jobs=None, penalty='l2',\n",
            "                   random_state=None, solver='lbfgs', tol=0.0001, verbose=0,\n",
            "                   warm_start=False)\n",
            "[[ 26975   5051]\n",
            " [  3019 109210]]\n",
            "              precision    recall  f1-score   support\n",
            "\n",
            "           0       0.90      0.84      0.87     32026\n",
            "           1       0.96      0.97      0.96    112229\n",
            "\n",
            "    accuracy                           0.94    144255\n",
            "   macro avg       0.93      0.91      0.92    144255\n",
            "weighted avg       0.94      0.94      0.94    144255\n",
            "\n",
            "Score: 94.41\n"
          ],
          "name": "stdout"
        },
        {
          "output_type": "display_data",
          "data": {
            "image/png": "[encoded data removed]",
            "text/plain": [
              "<Figure size 432x288 with 2 Axes>"
            ]
          },
          "metadata": {
            "tags": []
          }
        }
      ]
    },
    {
      "cell_type": "code",
      "metadata": {
        "id": "zzmmg1_g65rC",
        "colab_type": "code",
        "colab": {}
      },
      "source": [
        "# # MULTILAYER PERCEPTRON CLASSIFIER\n",
        "# from sklearn.neural_network import MLPClassifier\n",
        "# mlp = MLPClassifier()\n",
        "# mlp.fit(X_train,y_train)\n",
        "# y_pred = mlp.predict(X_test)\n",
        "# print(\"Confusion Matrix for Multilayer Perceptron Classifier:\")\n",
        "# print(confusion_matrix(y_test,y_pred))\n",
        "# print(\"Classification Report:\")\n",
        "# print(classification_report(y_test,predmlp))\n",
        "# print(\"Score:\",round(accuracy_score(y_test,y_pred)*100,2))"
      ],
      "execution_count": null,
      "outputs": []
    },
    {
      "cell_type": "code",
      "metadata": {
        "id": "GXNqKRyWAr5e",
        "colab_type": "code",
        "colab": {}
      },
      "source": [
        "# # Random Forest Classifier\n",
        "# from sklearn.ensemble import RandomForestClassifier\n",
        "# rf = RandomForestClassifier()\n",
        "# rf.fit(X_train, y_train)\n",
        "# y_pred = rf.predict(X_test)\n",
        "# cm = confusion_matrix(y_test,y_pred)\n",
        "# sns.heatmap(cm, annot=True, cmap='Blues')\n",
        "# print(cm)\n",
        "# print(classification_report(y_test, y_pred))\n",
        "# print(\"Score:\",round(accuracy_score(y_test,y_pred)*100,2))"
      ],
      "execution_count": null,
      "outputs": []
    }
  ]
}